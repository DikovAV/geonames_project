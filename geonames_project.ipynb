{
 "cells": [
  {
   "cell_type": "markdown",
   "metadata": {},
   "source": [
    "# Описание проекта\n",
    "\n",
    "## Цель:\n",
    "- Сопоставление произвольных гео названий с унифицированными именами geonames для внутреннего использования Карьерным центром\n",
    "\n",
    "\n",
    "\n",
    "\n",
    "\n",
    "## Задачи:\n",
    "\n",
    "\n",
    "- Создать решение для подбора наиболее подходящих названий с geonames. Например Ереван -> Yerevan\n",
    "\n",
    "\n",
    "- На примере РФ и стран наиболее популярных для релокации - Беларусь, Армения, Казахстан, Кыргызстан, Турция, Сербия. Города с населением от 15000 человек (с возможностью масштабирования на сервере заказчика)\n",
    "\n",
    "\n",
    "- Возвращаемые поля geonameid, name, region, country, cosine similarity\n",
    "- формат данных на выходе: список словарей, например [{dict_1}, {dict_2}, …. {dict_n}] где словарь - одна запись с указанными полями\n"
   ]
  },
  {
   "cell_type": "markdown",
   "metadata": {},
   "source": [
    "# imports"
   ]
  },
  {
   "cell_type": "code",
   "execution_count": 1,
   "metadata": {},
   "outputs": [],
   "source": [
    "import pandas as pd\n",
    "import numpy as np\n",
    "\n",
    "import psycopg2 as ps\n",
    "\n",
    "from GeoSearcher import GeoSearcher"
   ]
  },
  {
   "cell_type": "markdown",
   "metadata": {},
   "source": [
    "# Демонстрация модели"
   ]
  },
  {
   "cell_type": "markdown",
   "metadata": {},
   "source": [
    "## Создание подключения"
   ]
  },
  {
   "cell_type": "code",
   "execution_count": 2,
   "metadata": {},
   "outputs": [],
   "source": [
    "connection = ps.connect(dbname='dbname',\n",
    "                        user='user',\n",
    "                        password= 'password',\n",
    "                        host='localhost',\n",
    "                        port='5432')\n",
    "\n",
    "list_of_countrys = ['Russia','Belarus','Armenia',\n",
    "                    'Kyrgyzstan','Georgia','Kazakhstan',\n",
    "                    'Turkmenistan','Turkey','Serbia']"
   ]
  },
  {
   "cell_type": "markdown",
   "metadata": {},
   "source": [
    "## Инициализация модели"
   ]
  },
  {
   "cell_type": "code",
   "execution_count": null,
   "metadata": {},
   "outputs": [],
   "source": [
    "geo = GeoSearcher(connection, list_of_countrys=list_of_countrys,\n",
    "                  model='LaBSE', translator=False)"
   ]
  },
  {
   "cell_type": "code",
   "execution_count": 4,
   "metadata": {},
   "outputs": [],
   "source": [
    "res = geo.match_name('Москва')"
   ]
  },
  {
   "cell_type": "code",
   "execution_count": 5,
   "metadata": {},
   "outputs": [
    {
     "data": {
      "text/plain": [
       "[{'name': array(['Moscow', 'Moskovskiy', 'Mostovskoy', 'Minsk', 'Mozhaysk'],\n",
       "        dtype=object),\n",
       "  'region': array(['Moscow', 'Moscow', 'Krasnodar Krai', 'Minsk City',\n",
       "         'Moscow Oblast'], dtype=object),\n",
       "  'country': array(['Russia', 'Russia', 'Russia', 'Belarus', 'Russia'], dtype=object),\n",
       "  'similarity': tensor([0.9729, 0.7980, 0.7014, 0.6948, 0.6617])}]"
      ]
     },
     "execution_count": 5,
     "metadata": {},
     "output_type": "execute_result"
    }
   ],
   "source": [
    "res"
   ]
  },
  {
   "cell_type": "code",
   "execution_count": 6,
   "metadata": {},
   "outputs": [
    {
     "data": {
      "text/html": [
       "<div>\n",
       "<style scoped>\n",
       "    .dataframe tbody tr th:only-of-type {\n",
       "        vertical-align: middle;\n",
       "    }\n",
       "\n",
       "    .dataframe tbody tr th {\n",
       "        vertical-align: top;\n",
       "    }\n",
       "\n",
       "    .dataframe thead th {\n",
       "        text-align: right;\n",
       "    }\n",
       "</style>\n",
       "<table border=\"1\" class=\"dataframe\">\n",
       "  <thead>\n",
       "    <tr style=\"text-align: right;\">\n",
       "      <th></th>\n",
       "      <th>asciiname</th>\n",
       "      <th>region</th>\n",
       "      <th>country</th>\n",
       "    </tr>\n",
       "  </thead>\n",
       "  <tbody>\n",
       "    <tr>\n",
       "      <th>20141</th>\n",
       "      <td>Moscow</td>\n",
       "      <td>Moscow</td>\n",
       "      <td>Russia</td>\n",
       "    </tr>\n",
       "    <tr>\n",
       "      <th>20169</th>\n",
       "      <td>Moskovskiy</td>\n",
       "      <td>Moscow</td>\n",
       "      <td>Russia</td>\n",
       "    </tr>\n",
       "    <tr>\n",
       "      <th>17363</th>\n",
       "      <td>Mostovskoy</td>\n",
       "      <td>Krasnodar Krai</td>\n",
       "      <td>Russia</td>\n",
       "    </tr>\n",
       "    <tr>\n",
       "      <th>4439</th>\n",
       "      <td>Minsk</td>\n",
       "      <td>Minsk City</td>\n",
       "      <td>Belarus</td>\n",
       "    </tr>\n",
       "    <tr>\n",
       "      <th>19694</th>\n",
       "      <td>Mozhaysk</td>\n",
       "      <td>Moscow Oblast</td>\n",
       "      <td>Russia</td>\n",
       "    </tr>\n",
       "  </tbody>\n",
       "</table>\n",
       "</div>"
      ],
      "text/plain": [
       "        asciiname          region  country\n",
       "20141      Moscow          Moscow   Russia\n",
       "20169  Moskovskiy          Moscow   Russia\n",
       "17363  Mostovskoy  Krasnodar Krai   Russia\n",
       "4439        Minsk      Minsk City  Belarus\n",
       "19694    Mozhaysk   Moscow Oblast   Russia"
      ]
     },
     "execution_count": 6,
     "metadata": {},
     "output_type": "execute_result"
    }
   ],
   "source": [
    "geo.top_n_recommendations[['asciiname','region','country']]"
   ]
  },
  {
   "cell_type": "markdown",
   "metadata": {},
   "source": [
    "# Оценка работы модели"
   ]
  },
  {
   "cell_type": "markdown",
   "metadata": {},
   "source": [
    "## Загрузка тестовых данных"
   ]
  },
  {
   "cell_type": "code",
   "execution_count": 7,
   "metadata": {},
   "outputs": [],
   "source": [
    "tests = pd.read_csv('assets\\\\geo_test.csv', sep=';')"
   ]
  },
  {
   "cell_type": "code",
   "execution_count": 8,
   "metadata": {},
   "outputs": [],
   "source": [
    "tests.rename(columns={'name':'asciiname'}, inplace=True)"
   ]
  },
  {
   "cell_type": "markdown",
   "metadata": {},
   "source": [
    "# Оценка"
   ]
  },
  {
   "cell_type": "code",
   "execution_count": 9,
   "metadata": {},
   "outputs": [],
   "source": [
    "def recall_at_k(predicted, correct,):\n",
    "        return int(correct in predicted[:5])"
   ]
  },
  {
   "cell_type": "code",
   "execution_count": 10,
   "metadata": {},
   "outputs": [],
   "source": [
    "total_recall = []\n",
    "count = 0\n",
    "for index, row in tests.iterrows():\n",
    "     geo.match_name(row['query'])\n",
    "     if geo.top_n_recommendations.loc[(geo.top_n_recommendations['asciiname'] == row['asciiname']) &\n",
    "                                       (geo.top_n_recommendations['region'] == row['region']) & \n",
    "                                       (geo.top_n_recommendations['country'] == row['country'])].shape[0] > 0:\n",
    "          total_recall.append(1)\n",
    "     else:\n",
    "          total_recall.append(0)"
   ]
  },
  {
   "cell_type": "code",
   "execution_count": 11,
   "metadata": {},
   "outputs": [
    {
     "data": {
      "text/plain": [
       "0.8563218390804598"
      ]
     },
     "execution_count": 11,
     "metadata": {},
     "output_type": "execute_result"
    }
   ],
   "source": [
    "np.mean(total_recall)"
   ]
  },
  {
   "cell_type": "markdown",
   "metadata": {},
   "source": [
    "Мы получили оценку `0.856` для топ-5.\n",
    "\n",
    "Дообучим модель на альтернативных названиях городов и посмотрим, что получится:"
   ]
  },
  {
   "cell_type": "code",
   "execution_count": 12,
   "metadata": {},
   "outputs": [],
   "source": [
    "# Создадим пары название города-альтернативное название\n",
    "#  examples = []\n",
    "# for index in data[data.alternatenames.notna()].index:\n",
    "#   for alter_name in data.alternatenames[index].split(','):\n",
    "#     examples.append([data.loc[index,'asciiname'].lower().strip(), alter_name.lower().strip()])\n",
    "\n",
    "# Добавляем их тренировчной сет\n",
    "# train_examples = []\n",
    "# for ex in examples:\n",
    "#   train_examples.append(InputExample(texts=ex))\n",
    "\n",
    "# Определяем функцию ошибки\n",
    "# train_dataloader = DataLoader(train_examples, shuffle=True, batch_size=16)\n",
    "# train_loss = losses.MegaBatchMarginLoss(model)\n",
    "\n",
    "# Дообучаем модель и сохраняем её\n",
    "# model.fit(train_objectives=[(train_dataloader, train_loss)], epochs=5, warmup_steps=100)\n",
    "# model.save('/content/model')"
   ]
  },
  {
   "cell_type": "code",
   "execution_count": null,
   "metadata": {},
   "outputs": [],
   "source": [
    "geo = GeoSearcher(connection, list_of_countrys=list_of_countrys,\n",
    "                  model='model_fine_tune', translator=False)"
   ]
  },
  {
   "cell_type": "code",
   "execution_count": 14,
   "metadata": {},
   "outputs": [],
   "source": [
    "total_recall = []\n",
    "count = 0\n",
    "for index, row in tests.iterrows():\n",
    "     geo.match_name(row['query'])\n",
    "     if geo.top_n_recommendations.loc[geo.top_n_recommendations['asciiname'] == row['asciiname']].shape[0] > 0:\n",
    "          total_recall.append(1)\n",
    "     else:\n",
    "          total_recall.append(0)"
   ]
  },
  {
   "cell_type": "code",
   "execution_count": 15,
   "metadata": {},
   "outputs": [
    {
     "data": {
      "text/html": [
       "<div>\n",
       "<style scoped>\n",
       "    .dataframe tbody tr th:only-of-type {\n",
       "        vertical-align: middle;\n",
       "    }\n",
       "\n",
       "    .dataframe tbody tr th {\n",
       "        vertical-align: top;\n",
       "    }\n",
       "\n",
       "    .dataframe thead th {\n",
       "        text-align: right;\n",
       "    }\n",
       "</style>\n",
       "<table border=\"1\" class=\"dataframe\">\n",
       "  <thead>\n",
       "    <tr style=\"text-align: right;\">\n",
       "      <th></th>\n",
       "      <th>name</th>\n",
       "      <th>asciiname</th>\n",
       "      <th>alternatenames</th>\n",
       "      <th>latitude</th>\n",
       "      <th>longitude</th>\n",
       "      <th>fclass</th>\n",
       "      <th>fcode</th>\n",
       "      <th>country_short</th>\n",
       "      <th>cc2</th>\n",
       "      <th>admin1</th>\n",
       "      <th>...</th>\n",
       "      <th>population</th>\n",
       "      <th>elevation</th>\n",
       "      <th>gtopo30</th>\n",
       "      <th>timezone</th>\n",
       "      <th>moddate</th>\n",
       "      <th>iso</th>\n",
       "      <th>country</th>\n",
       "      <th>admin_code</th>\n",
       "      <th>region</th>\n",
       "      <th>asciiname_embeddings</th>\n",
       "    </tr>\n",
       "  </thead>\n",
       "  <tbody>\n",
       "    <tr>\n",
       "      <th>20169</th>\n",
       "      <td>Moskovskiy</td>\n",
       "      <td>Moskovskiy</td>\n",
       "      <td>Moskovskij,Moskovskiy,Московский</td>\n",
       "      <td>55.59911</td>\n",
       "      <td>37.35495</td>\n",
       "      <td>P</td>\n",
       "      <td>PPL</td>\n",
       "      <td>RU</td>\n",
       "      <td>None</td>\n",
       "      <td>48</td>\n",
       "      <td>...</td>\n",
       "      <td>15435</td>\n",
       "      <td>NaN</td>\n",
       "      <td>185</td>\n",
       "      <td>Europe/Moscow</td>\n",
       "      <td>2015-08-23</td>\n",
       "      <td>RU</td>\n",
       "      <td>Russia</td>\n",
       "      <td>RU.48</td>\n",
       "      <td>Moscow</td>\n",
       "      <td>[0.017886139452457428, 0.03329120948910713, -0...</td>\n",
       "    </tr>\n",
       "    <tr>\n",
       "      <th>20141</th>\n",
       "      <td>Moscow</td>\n",
       "      <td>Moscow</td>\n",
       "      <td>MOW,Maeskuy,Maskav,Maskava,Maskva,Mat-xco-va,M...</td>\n",
       "      <td>55.75222</td>\n",
       "      <td>37.61556</td>\n",
       "      <td>P</td>\n",
       "      <td>PPLC</td>\n",
       "      <td>RU</td>\n",
       "      <td>None</td>\n",
       "      <td>48</td>\n",
       "      <td>...</td>\n",
       "      <td>10381222</td>\n",
       "      <td>NaN</td>\n",
       "      <td>144</td>\n",
       "      <td>Europe/Moscow</td>\n",
       "      <td>2022-12-10</td>\n",
       "      <td>RU</td>\n",
       "      <td>Russia</td>\n",
       "      <td>RU.48</td>\n",
       "      <td>Moscow</td>\n",
       "      <td>[0.03161464259028435, 0.031700558960437775, -0...</td>\n",
       "    </tr>\n",
       "    <tr>\n",
       "      <th>20785</th>\n",
       "      <td>Myski</td>\n",
       "      <td>Myski</td>\n",
       "      <td>Miski,Moski,Myski,Mõski,Tomazak,mei si ji,mysk...</td>\n",
       "      <td>53.70900</td>\n",
       "      <td>87.80140</td>\n",
       "      <td>P</td>\n",
       "      <td>PPL</td>\n",
       "      <td>RU</td>\n",
       "      <td>None</td>\n",
       "      <td>29</td>\n",
       "      <td>...</td>\n",
       "      <td>44082</td>\n",
       "      <td>NaN</td>\n",
       "      <td>239</td>\n",
       "      <td>Asia/Novokuznetsk</td>\n",
       "      <td>2019-09-05</td>\n",
       "      <td>RU</td>\n",
       "      <td>Russia</td>\n",
       "      <td>RU.29</td>\n",
       "      <td>Kuzbass</td>\n",
       "      <td>[-0.02779707871377468, 0.04548143967986107, -0...</td>\n",
       "    </tr>\n",
       "    <tr>\n",
       "      <th>16043</th>\n",
       "      <td>Massy</td>\n",
       "      <td>Massy</td>\n",
       "      <td>Lenin-Dzhol,Leninjol,Massy,Ленин-Джол,Массы</td>\n",
       "      <td>41.06010</td>\n",
       "      <td>72.63285</td>\n",
       "      <td>P</td>\n",
       "      <td>PPLA2</td>\n",
       "      <td>KG</td>\n",
       "      <td>None</td>\n",
       "      <td>03</td>\n",
       "      <td>...</td>\n",
       "      <td>19774</td>\n",
       "      <td>NaN</td>\n",
       "      <td>690</td>\n",
       "      <td>Asia/Bishkek</td>\n",
       "      <td>2022-09-08</td>\n",
       "      <td>KG</td>\n",
       "      <td>Kyrgyzstan</td>\n",
       "      <td>KG.03</td>\n",
       "      <td>Jalal-Abad</td>\n",
       "      <td>[-0.04320581629872322, 0.05210809409618378, 0....</td>\n",
       "    </tr>\n",
       "    <tr>\n",
       "      <th>4422</th>\n",
       "      <td>Mosty</td>\n",
       "      <td>Mosty</td>\n",
       "      <td>Mastai,Masti,Masty,Mosti,Mosty,mo si te,Масти,...</td>\n",
       "      <td>53.41220</td>\n",
       "      <td>24.53870</td>\n",
       "      <td>P</td>\n",
       "      <td>PPLA2</td>\n",
       "      <td>BY</td>\n",
       "      <td>None</td>\n",
       "      <td>03</td>\n",
       "      <td>...</td>\n",
       "      <td>15770</td>\n",
       "      <td>NaN</td>\n",
       "      <td>118</td>\n",
       "      <td>Europe/Minsk</td>\n",
       "      <td>2023-02-18</td>\n",
       "      <td>BY</td>\n",
       "      <td>Belarus</td>\n",
       "      <td>BY.03</td>\n",
       "      <td>Grodnenskaya</td>\n",
       "      <td>[0.017265550792217255, 0.01189790666103363, 0....</td>\n",
       "    </tr>\n",
       "  </tbody>\n",
       "</table>\n",
       "<p>5 rows × 23 columns</p>\n",
       "</div>"
      ],
      "text/plain": [
       "             name   asciiname  \\\n",
       "20169  Moskovskiy  Moskovskiy   \n",
       "20141      Moscow      Moscow   \n",
       "20785       Myski       Myski   \n",
       "16043       Massy       Massy   \n",
       "4422        Mosty       Mosty   \n",
       "\n",
       "                                          alternatenames  latitude  longitude  \\\n",
       "20169                   Moskovskij,Moskovskiy,Московский  55.59911   37.35495   \n",
       "20141  MOW,Maeskuy,Maskav,Maskava,Maskva,Mat-xco-va,M...  55.75222   37.61556   \n",
       "20785  Miski,Moski,Myski,Mõski,Tomazak,mei si ji,mysk...  53.70900   87.80140   \n",
       "16043        Lenin-Dzhol,Leninjol,Massy,Ленин-Джол,Массы  41.06010   72.63285   \n",
       "4422   Mastai,Masti,Masty,Mosti,Mosty,mo si te,Масти,...  53.41220   24.53870   \n",
       "\n",
       "      fclass  fcode country_short   cc2 admin1  ... population elevation  \\\n",
       "20169      P    PPL            RU  None     48  ...      15435       NaN   \n",
       "20141      P   PPLC            RU  None     48  ...   10381222       NaN   \n",
       "20785      P    PPL            RU  None     29  ...      44082       NaN   \n",
       "16043      P  PPLA2            KG  None     03  ...      19774       NaN   \n",
       "4422       P  PPLA2            BY  None     03  ...      15770       NaN   \n",
       "\n",
       "      gtopo30           timezone     moddate  iso     country admin_code  \\\n",
       "20169     185      Europe/Moscow  2015-08-23   RU      Russia      RU.48   \n",
       "20141     144      Europe/Moscow  2022-12-10   RU      Russia      RU.48   \n",
       "20785     239  Asia/Novokuznetsk  2019-09-05   RU      Russia      RU.29   \n",
       "16043     690       Asia/Bishkek  2022-09-08   KG  Kyrgyzstan      KG.03   \n",
       "4422      118       Europe/Minsk  2023-02-18   BY     Belarus      BY.03   \n",
       "\n",
       "             region                               asciiname_embeddings  \n",
       "20169        Moscow  [0.017886139452457428, 0.03329120948910713, -0...  \n",
       "20141        Moscow  [0.03161464259028435, 0.031700558960437775, -0...  \n",
       "20785       Kuzbass  [-0.02779707871377468, 0.04548143967986107, -0...  \n",
       "16043    Jalal-Abad  [-0.04320581629872322, 0.05210809409618378, 0....  \n",
       "4422   Grodnenskaya  [0.017265550792217255, 0.01189790666103363, 0....  \n",
       "\n",
       "[5 rows x 23 columns]"
      ]
     },
     "execution_count": 15,
     "metadata": {},
     "output_type": "execute_result"
    }
   ],
   "source": [
    "geo.top_n_recommendations"
   ]
  },
  {
   "cell_type": "code",
   "execution_count": 16,
   "metadata": {},
   "outputs": [
    {
     "data": {
      "text/plain": [
       "0.8850574712643678"
      ]
     },
     "execution_count": 16,
     "metadata": {},
     "output_type": "execute_result"
    }
   ],
   "source": [
    "np.mean(total_recall)"
   ]
  },
  {
   "cell_type": "markdown",
   "metadata": {},
   "source": [
    "После fine_tune модель стала показывать себя лучше. Наша метрика составляет уже `0.885`, что говорит о том, что практически в 88.5% случаев верный вариант есть в топ-5 предложенных. "
   ]
  },
  {
   "cell_type": "code",
   "execution_count": null,
   "metadata": {},
   "outputs": [],
   "source": [
    "geo = GeoSearcher(connection, list_of_countrys=list_of_countrys,\n",
    "                  model='model_fine_tune', translator=True)"
   ]
  },
  {
   "cell_type": "code",
   "execution_count": 18,
   "metadata": {},
   "outputs": [],
   "source": [
    "total_recall = []\n",
    "count = 0\n",
    "for index, row in tests.iterrows():\n",
    "     geo.match_name(row['query'])\n",
    "     if geo.top_n_recommendations.loc[geo.top_n_recommendations['asciiname'] == row['asciiname']].shape[0] > 0:\n",
    "          total_recall.append(1)\n",
    "     else:\n",
    "          total_recall.append(0)"
   ]
  },
  {
   "cell_type": "code",
   "execution_count": 19,
   "metadata": {},
   "outputs": [
    {
     "data": {
      "text/plain": [
       "0.7385057471264368"
      ]
     },
     "execution_count": 19,
     "metadata": {},
     "output_type": "execute_result"
    }
   ],
   "source": [
    "np.mean(total_recall)"
   ]
  },
  {
   "cell_type": "markdown",
   "metadata": {},
   "source": [
    "## Заключение\n",
    "\n",
    "Стоит отметить, что в нашей используется переводчик и spellchecker. Метрика ниже, однако позволяет находить совпадения для более широкого спектра запросов. Если использовать тестовый датасет на другом языке данный подход, вероятно, покажет себя лучше.\n",
    "\n",
    "Таким образом, создано решение для подбора наиболее подходящих названий с geonames."
   ]
  }
 ],
 "metadata": {
  "kernelspec": {
   "display_name": "Test_env",
   "language": "python",
   "name": "python3"
  },
  "language_info": {
   "codemirror_mode": {
    "name": "ipython",
    "version": 3
   },
   "file_extension": ".py",
   "mimetype": "text/x-python",
   "name": "python",
   "nbconvert_exporter": "python",
   "pygments_lexer": "ipython3",
   "version": "3.9.16"
  }
 },
 "nbformat": 4,
 "nbformat_minor": 2
}
